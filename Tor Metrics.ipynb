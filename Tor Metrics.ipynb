{
 "cells": [
  {
   "cell_type": "code",
   "execution_count": 28,
   "id": "dc636e69",
   "metadata": {},
   "outputs": [],
   "source": [
    "import datetime\n",
    "import pathlib\n",
    "\n",
    "import numpy as np\n",
    "import pandas as pd\n",
    "import matplotlib.pyplot as plt"
   ]
  },
  {
   "cell_type": "code",
   "execution_count": 20,
   "id": "846129ad",
   "metadata": {},
   "outputs": [],
   "source": [
    "def month(date_str):\n",
    "    return datetime.date.fromisoformat(date_str).strftime('%y %m')"
   ]
  },
  {
   "cell_type": "code",
   "execution_count": 21,
   "id": "ab95f63c",
   "metadata": {},
   "outputs": [
    {
     "data": {
      "text/html": [
       "<div>\n",
       "<style scoped>\n",
       "    .dataframe tbody tr th:only-of-type {\n",
       "        vertical-align: middle;\n",
       "    }\n",
       "\n",
       "    .dataframe tbody tr th {\n",
       "        vertical-align: top;\n",
       "    }\n",
       "\n",
       "    .dataframe thead th {\n",
       "        text-align: right;\n",
       "    }\n",
       "</style>\n",
       "<table border=\"1\" class=\"dataframe\">\n",
       "  <thead>\n",
       "    <tr style=\"text-align: right;\">\n",
       "      <th></th>\n",
       "      <th>date</th>\n",
       "      <th>country</th>\n",
       "      <th>users</th>\n",
       "      <th>lower</th>\n",
       "      <th>upper</th>\n",
       "      <th>frac</th>\n",
       "    </tr>\n",
       "  </thead>\n",
       "  <tbody>\n",
       "    <tr>\n",
       "      <th>0</th>\n",
       "      <td>2020-03-01</td>\n",
       "      <td>NaN</td>\n",
       "      <td>2419499</td>\n",
       "      <td>NaN</td>\n",
       "      <td>NaN</td>\n",
       "      <td>86</td>\n",
       "    </tr>\n",
       "    <tr>\n",
       "      <th>1</th>\n",
       "      <td>2020-03-01</td>\n",
       "      <td>??</td>\n",
       "      <td>13846</td>\n",
       "      <td>NaN</td>\n",
       "      <td>NaN</td>\n",
       "      <td>86</td>\n",
       "    </tr>\n",
       "    <tr>\n",
       "      <th>2</th>\n",
       "      <td>2020-03-01</td>\n",
       "      <td>ad</td>\n",
       "      <td>105</td>\n",
       "      <td>46.0</td>\n",
       "      <td>204.0</td>\n",
       "      <td>86</td>\n",
       "    </tr>\n",
       "    <tr>\n",
       "      <th>3</th>\n",
       "      <td>2020-03-01</td>\n",
       "      <td>ae</td>\n",
       "      <td>4050</td>\n",
       "      <td>2725.0</td>\n",
       "      <td>6137.0</td>\n",
       "      <td>86</td>\n",
       "    </tr>\n",
       "    <tr>\n",
       "      <th>4</th>\n",
       "      <td>2020-03-01</td>\n",
       "      <td>af</td>\n",
       "      <td>462</td>\n",
       "      <td>236.0</td>\n",
       "      <td>696.0</td>\n",
       "      <td>86</td>\n",
       "    </tr>\n",
       "  </tbody>\n",
       "</table>\n",
       "</div>"
      ],
      "text/plain": [
       "         date country    users   lower   upper  frac\n",
       "0  2020-03-01     NaN  2419499     NaN     NaN    86\n",
       "1  2020-03-01      ??    13846     NaN     NaN    86\n",
       "2  2020-03-01      ad      105    46.0   204.0    86\n",
       "3  2020-03-01      ae     4050  2725.0  6137.0    86\n",
       "4  2020-03-01      af      462   236.0   696.0    86"
      ]
     },
     "execution_count": 21,
     "metadata": {},
     "output_type": "execute_result"
    }
   ],
   "source": [
    "df = pd.read_csv('data/relay_users.csv')\n",
    "df.head()"
   ]
  },
  {
   "cell_type": "code",
   "execution_count": 22,
   "id": "28ab1527",
   "metadata": {},
   "outputs": [],
   "source": [
    "df['month'] = df['date'].apply(month)"
   ]
  },
  {
   "cell_type": "code",
   "execution_count": 23,
   "id": "2f49ff7f",
   "metadata": {},
   "outputs": [
    {
     "data": {
      "text/html": [
       "<div>\n",
       "<style scoped>\n",
       "    .dataframe tbody tr th:only-of-type {\n",
       "        vertical-align: middle;\n",
       "    }\n",
       "\n",
       "    .dataframe tbody tr th {\n",
       "        vertical-align: top;\n",
       "    }\n",
       "\n",
       "    .dataframe thead th {\n",
       "        text-align: right;\n",
       "    }\n",
       "</style>\n",
       "<table border=\"1\" class=\"dataframe\">\n",
       "  <thead>\n",
       "    <tr style=\"text-align: right;\">\n",
       "      <th></th>\n",
       "      <th>date</th>\n",
       "      <th>country</th>\n",
       "      <th>users</th>\n",
       "      <th>lower</th>\n",
       "      <th>upper</th>\n",
       "      <th>frac</th>\n",
       "      <th>month</th>\n",
       "    </tr>\n",
       "  </thead>\n",
       "  <tbody>\n",
       "    <tr>\n",
       "      <th>0</th>\n",
       "      <td>2020-03-01</td>\n",
       "      <td>NaN</td>\n",
       "      <td>2419499</td>\n",
       "      <td>NaN</td>\n",
       "      <td>NaN</td>\n",
       "      <td>86</td>\n",
       "      <td>20 03</td>\n",
       "    </tr>\n",
       "    <tr>\n",
       "      <th>1</th>\n",
       "      <td>2020-03-01</td>\n",
       "      <td>??</td>\n",
       "      <td>13846</td>\n",
       "      <td>NaN</td>\n",
       "      <td>NaN</td>\n",
       "      <td>86</td>\n",
       "      <td>20 03</td>\n",
       "    </tr>\n",
       "    <tr>\n",
       "      <th>2</th>\n",
       "      <td>2020-03-01</td>\n",
       "      <td>ad</td>\n",
       "      <td>105</td>\n",
       "      <td>46.0</td>\n",
       "      <td>204.0</td>\n",
       "      <td>86</td>\n",
       "      <td>20 03</td>\n",
       "    </tr>\n",
       "    <tr>\n",
       "      <th>3</th>\n",
       "      <td>2020-03-01</td>\n",
       "      <td>ae</td>\n",
       "      <td>4050</td>\n",
       "      <td>2725.0</td>\n",
       "      <td>6137.0</td>\n",
       "      <td>86</td>\n",
       "      <td>20 03</td>\n",
       "    </tr>\n",
       "    <tr>\n",
       "      <th>4</th>\n",
       "      <td>2020-03-01</td>\n",
       "      <td>af</td>\n",
       "      <td>462</td>\n",
       "      <td>236.0</td>\n",
       "      <td>696.0</td>\n",
       "      <td>86</td>\n",
       "      <td>20 03</td>\n",
       "    </tr>\n",
       "  </tbody>\n",
       "</table>\n",
       "</div>"
      ],
      "text/plain": [
       "         date country    users   lower   upper  frac  month\n",
       "0  2020-03-01     NaN  2419499     NaN     NaN    86  20 03\n",
       "1  2020-03-01      ??    13846     NaN     NaN    86  20 03\n",
       "2  2020-03-01      ad      105    46.0   204.0    86  20 03\n",
       "3  2020-03-01      ae     4050  2725.0  6137.0    86  20 03\n",
       "4  2020-03-01      af      462   236.0   696.0    86  20 03"
      ]
     },
     "execution_count": 23,
     "metadata": {},
     "output_type": "execute_result"
    }
   ],
   "source": [
    "df.head()"
   ]
  },
  {
   "cell_type": "code",
   "execution_count": 24,
   "id": "8b77ae11",
   "metadata": {},
   "outputs": [],
   "source": [
    "grouped = df.groupby(['month', 'country'])"
   ]
  },
  {
   "cell_type": "code",
   "execution_count": 25,
   "id": "f6e4fb23",
   "metadata": {},
   "outputs": [],
   "source": [
    "grouped = df.groupby(['month'])"
   ]
  },
  {
   "cell_type": "code",
   "execution_count": 34,
   "id": "4ec9ee5d",
   "metadata": {},
   "outputs": [
    {
     "data": {
      "text/html": [
       "<div>\n",
       "<style scoped>\n",
       "    .dataframe tbody tr th:only-of-type {\n",
       "        vertical-align: middle;\n",
       "    }\n",
       "\n",
       "    .dataframe tbody tr th {\n",
       "        vertical-align: top;\n",
       "    }\n",
       "\n",
       "    .dataframe thead th {\n",
       "        text-align: right;\n",
       "    }\n",
       "</style>\n",
       "<table border=\"1\" class=\"dataframe\">\n",
       "  <thead>\n",
       "    <tr style=\"text-align: right;\">\n",
       "      <th></th>\n",
       "      <th>month</th>\n",
       "      <th>users</th>\n",
       "      <th>lower</th>\n",
       "      <th>upper</th>\n",
       "      <th>frac</th>\n",
       "    </tr>\n",
       "  </thead>\n",
       "  <tbody>\n",
       "    <tr>\n",
       "      <th>0</th>\n",
       "      <td>20 03</td>\n",
       "      <td>121858292</td>\n",
       "      <td>38964627.0</td>\n",
       "      <td>84713857.0</td>\n",
       "      <td>682037</td>\n",
       "    </tr>\n",
       "    <tr>\n",
       "      <th>1</th>\n",
       "      <td>20 04</td>\n",
       "      <td>117988656</td>\n",
       "      <td>42404746.0</td>\n",
       "      <td>75072668.0</td>\n",
       "      <td>657088</td>\n",
       "    </tr>\n",
       "    <tr>\n",
       "      <th>2</th>\n",
       "      <td>20 05</td>\n",
       "      <td>123367138</td>\n",
       "      <td>37781113.0</td>\n",
       "      <td>85894194.0</td>\n",
       "      <td>664442</td>\n",
       "    </tr>\n",
       "    <tr>\n",
       "      <th>3</th>\n",
       "      <td>20 06</td>\n",
       "      <td>152505144</td>\n",
       "      <td>47511604.0</td>\n",
       "      <td>95135352.0</td>\n",
       "      <td>657178</td>\n",
       "    </tr>\n",
       "    <tr>\n",
       "      <th>4</th>\n",
       "      <td>20 07</td>\n",
       "      <td>145820390</td>\n",
       "      <td>45781319.0</td>\n",
       "      <td>100085612.0</td>\n",
       "      <td>697576</td>\n",
       "    </tr>\n",
       "  </tbody>\n",
       "</table>\n",
       "</div>"
      ],
      "text/plain": [
       "   month      users       lower        upper    frac\n",
       "0  20 03  121858292  38964627.0   84713857.0  682037\n",
       "1  20 04  117988656  42404746.0   75072668.0  657088\n",
       "2  20 05  123367138  37781113.0   85894194.0  664442\n",
       "3  20 06  152505144  47511604.0   95135352.0  657178\n",
       "4  20 07  145820390  45781319.0  100085612.0  697576"
      ]
     },
     "execution_count": 34,
     "metadata": {},
     "output_type": "execute_result"
    }
   ],
   "source": [
    "all_countries = grouped.aggregate(np.sum).reset_index()\n",
    "all_countries.head()"
   ]
  },
  {
   "cell_type": "code",
   "execution_count": 36,
   "id": "f59c02d2",
   "metadata": {},
   "outputs": [
    {
     "data": {
      "text/plain": [
       "<AxesSubplot:xlabel='month'>"
      ]
     },
     "execution_count": 36,
     "metadata": {},
     "output_type": "execute_result"
    },
    {
     "data": {
      "image/png": "[encoded data removed]",
      "text/plain": [
       "<Figure size 1152x648 with 1 Axes>"
      ]
     },
     "metadata": {
      "needs_background": "light"
     },
     "output_type": "display_data"
    }
   ],
   "source": [
    "ax = plt.gca()\n",
    "ax.figure.set_size_inches(16, 9)\n",
    "all_countries.plot(kind='line', x='month', y='users', ax=ax)"
   ]
  },
  {
   "cell_type": "code",
   "execution_count": null,
   "id": "162ed63c",
   "metadata": {},
   "outputs": [],
   "source": []
  },
  {
   "cell_type": "code",
   "execution_count": null,
   "id": "44b20608",
   "metadata": {},
   "outputs": [],
   "source": []
  }
 ],
 "metadata": {
  "kernelspec": {
   "display_name": "Python 3 (ipykernel)",
   "language": "python",
   "name": "python3"
  },
  "language_info": {
   "codemirror_mode": {
    "name": "ipython",
    "version": 3
   },
   "file_extension": ".py",
   "mimetype": "text/x-python",
   "name": "python",
   "nbconvert_exporter": "python",
   "pygments_lexer": "ipython3",
   "version": "3.9.2"
  }
 },
 "nbformat": 4,
 "nbformat_minor": 5
}
